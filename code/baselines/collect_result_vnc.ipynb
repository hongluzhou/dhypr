{
 "cells": [
  {
   "cell_type": "code",
   "execution_count": null,
   "metadata": {},
   "outputs": [],
   "source": [
    "import os\n",
    "import pdb\n",
    "import numpy as np\n",
    "import pandas as pd"
   ]
  },
  {
   "cell_type": "code",
   "execution_count": null,
   "metadata": {},
   "outputs": [],
   "source": [
    "methods = ['HGCN_PoincareBall']   \n",
    "datasets = ['cora_ml']\n",
    "tasks = ['vnc']\n",
    "metrics = ['ACC', 'F1']\n",
    "\n",
    "exp_path = '../../exp'\n",
    "file_name = 'result.txt'\n",
    "total_folds = 10\n",
    "\n",
    "collected_path = '../../collected'"
   ]
  },
  {
   "cell_type": "code",
   "execution_count": null,
   "metadata": {},
   "outputs": [],
   "source": [
    "def gather_and_save_result(method, dataset, task, exp_path, file_name, total_folds, collected_path):\n",
    "    results = []\n",
    "\n",
    "    line0 = [''] * (total_folds + 1)\n",
    "    line0[0] = dataset\n",
    "    line0[1] = method\n",
    "    line0[2] = task\n",
    "    results.append(line0)\n",
    "\n",
    "    line1 = [''] * (total_folds + 1)\n",
    "    line1[0] = 'ACC:'\n",
    "    \n",
    "    line2 = [''] * (total_folds + 1)\n",
    "    line2[0] = 'F1:'\n",
    "    \n",
    "    acc_results = []\n",
    "    f1_results = []\n",
    "    \n",
    "    # print(results)\n",
    "\n",
    "    # ----------------------\n",
    "    for i in range(total_folds):\n",
    "        file_path = os.path.join(exp_path, method, dataset, task, 'fold_' + str(i), file_name)\n",
    "        with open(file_path, 'r') as f:\n",
    "            lines = f.readlines()\n",
    "        result_line = lines[0].rstrip().split(' ')\n",
    "        line1[i+1] = result_line[result_line.index('test_acc:')+1]\n",
    "        acc_results.append(float(result_line[result_line.index('test_acc:')+1]))\n",
    "        line2[i+1] = result_line[result_line.index('test_f1:')+1]\n",
    "        f1_results.append(float(result_line[result_line.index('test_f1:')+1]))\n",
    "            \n",
    "    results.append(line1)     \n",
    "    results.append(line2)     \n",
    "    print(results)\n",
    "    \n",
    "    line3 = [''] * (total_folds + 1)\n",
    "    line3[0] = 'ACC mean over all:'\n",
    "    line3[1] = str(round(np.mean(acc_results), 4))\n",
    "    \n",
    "    line4 = [''] * (total_folds + 1)\n",
    "    line4[0] = 'ACC std over all:'\n",
    "    line4[1] = str(round(np.std(acc_results), 4))\n",
    "    \n",
    "    \n",
    "    line5 = [''] * (total_folds + 1)\n",
    "    line5[0] = 'F1 mean over all:'\n",
    "    line5[1] = str(round(np.mean(f1_results), 4))\n",
    "    \n",
    "    line6 = [''] * (total_folds + 1)\n",
    "    line6[0] = 'F1 std over all:'\n",
    "    line6[1] = str(round(np.std(f1_results), 4))\n",
    "    \n",
    "    \n",
    "    results.append(line3)     \n",
    "    results.append(line4) \n",
    "    results.append(line5)     \n",
    "    results.append(line6) \n",
    "    \n",
    "    print(line3)\n",
    "    print(line4)\n",
    "    print(line5)\n",
    "    print(line6)\n",
    "\n",
    "    # ----------------------\n",
    "    # save\n",
    "    file_dir = os.path.join(collected_path, method, dataset, task)\n",
    "    if not os.path.exists(file_dir):\n",
    "        os.makedirs(file_dir)\n",
    "    file_path = os.path.join(file_dir, 'result.csv')\n",
    "\n",
    "    df = pd.DataFrame(results)\n",
    "    df.to_csv(file_path, header=False, index=False)\n",
    "    print(file_path + ' saved!')"
   ]
  },
  {
   "cell_type": "code",
   "execution_count": null,
   "metadata": {},
   "outputs": [],
   "source": [
    "for dataset in datasets:\n",
    "    for method in methods:\n",
    "        for task in tasks:\n",
    "            gather_and_save_result(method, dataset, task, exp_path, file_name, total_folds, collected_path)"
   ]
  },
  {
   "cell_type": "code",
   "execution_count": null,
   "metadata": {},
   "outputs": [],
   "source": []
  }
 ],
 "metadata": {
  "kernelspec": {
   "display_name": "Python 3",
   "language": "python",
   "name": "python3"
  },
  "language_info": {
   "codemirror_mode": {
    "name": "ipython",
    "version": 3
   },
   "file_extension": ".py",
   "mimetype": "text/x-python",
   "name": "python",
   "nbconvert_exporter": "python",
   "pygments_lexer": "ipython3",
   "version": "3.7.4"
  }
 },
 "nbformat": 4,
 "nbformat_minor": 4
}
