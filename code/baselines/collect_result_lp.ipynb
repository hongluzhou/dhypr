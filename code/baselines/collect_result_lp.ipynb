{
 "cells": [
  {
   "cell_type": "code",
   "execution_count": null,
   "metadata": {},
   "outputs": [],
   "source": [
    "import os\n",
    "import pdb\n",
    "import numpy as np\n",
    "import pandas as pd"
   ]
  },
  {
   "cell_type": "code",
   "execution_count": null,
   "metadata": {},
   "outputs": [],
   "source": [
    "methods = ['HGCN_PoincareBall']  \n",
    "datasets = ['cora'] \n",
    "tasks = ['lp']   \n",
    "metrics = ['AUC', 'AP']\n",
    "\n",
    "exp_path = '../../exp'\n",
    "file_name = 'result.txt'\n",
    "total_folds = 10\n",
    "total_run = 10\n",
    "\n",
    "collected_path = '../../collected'\n",
    "\n",
    "\n",
    "metrics_map = {\n",
    "    'AUC': 'test_roc:',\n",
    "    'AP': 'test_ap:'\n",
    "}"
   ]
  },
  {
   "cell_type": "code",
   "execution_count": null,
   "metadata": {},
   "outputs": [],
   "source": [
    "def gather_and_save_result(method, dataset, task, metric, exp_path, file_name, total_folds, total_run, collected_path):\n",
    "    results = []\n",
    "\n",
    "    line0 = [''] * (total_folds + 1)\n",
    "    line0[0] = dataset\n",
    "    line0[1] = method\n",
    "    line0[2] = task\n",
    "    line0[3] = metric\n",
    "    results.append(line0)\n",
    "\n",
    "    line1 = [''] * (total_folds + 1)\n",
    "    line1[0] = 'Run'\n",
    "    for i in range(total_folds):\n",
    "        line1[i + 1] = 'Fold ' + str(i)\n",
    "    results.append(line1)\n",
    "\n",
    "    # print(results)\n",
    "\n",
    "    # ----------------------\n",
    "    for i in range(total_run):\n",
    "        linei = [''] * (total_folds + 1)\n",
    "        linei[0] = 'run ' + str(i)\n",
    "        results.append(linei)\n",
    "\n",
    "    # print(results)\n",
    "\n",
    "    # ----------------------\n",
    "    for i in range(total_folds):\n",
    "        for j in range(total_run):\n",
    "            file_path = os.path.join(exp_path, method, dataset, task, 'fold_' + str(i), 'run_' + str(j), file_name)\n",
    "            with open(file_path, 'r') as f:\n",
    "                lines = f.readlines()\n",
    "            result_line = lines[0].rstrip().split(' ')\n",
    "            \n",
    "            if metric == 'AUC':\n",
    "                auc = result_line[result_line.index(metrics_map[metric])+1]\n",
    "                metric_result = auc\n",
    "            \n",
    "            if metric == 'AP':\n",
    "                ap = result_line[result_line.index(metrics_map[metric])+1]\n",
    "                metric_result = ap\n",
    "                \n",
    "\n",
    "            results[j + 2][i + 1] = metric_result\n",
    "\n",
    "    print(results)\n",
    "\n",
    "    # ----------------------\n",
    "    # save\n",
    "    file_dir = os.path.join(collected_path, method, dataset, task)\n",
    "    if not os.path.exists(file_dir):\n",
    "        os.makedirs(file_dir)\n",
    "    file_path = os.path.join(file_dir, metric + '.csv')\n",
    "\n",
    "    df = pd.DataFrame(results)\n",
    "    df.to_csv(file_path, header=False, index=False)\n",
    "    print(file_path + ' saved!')"
   ]
  },
  {
   "cell_type": "code",
   "execution_count": null,
   "metadata": {},
   "outputs": [],
   "source": [
    "for dataset in datasets:\n",
    "    for method in methods:\n",
    "        for task in tasks:\n",
    "            for metric in metrics:\n",
    "                gather_and_save_result(method, dataset, task, metric, exp_path, file_name, total_folds, total_run, collected_path)"
   ]
  },
  {
   "cell_type": "code",
   "execution_count": null,
   "metadata": {},
   "outputs": [],
   "source": []
  }
 ],
 "metadata": {
  "kernelspec": {
   "display_name": "Python 3",
   "language": "python",
   "name": "python3"
  },
  "language_info": {
   "codemirror_mode": {
    "name": "ipython",
    "version": 3
   },
   "file_extension": ".py",
   "mimetype": "text/x-python",
   "name": "python",
   "nbconvert_exporter": "python",
   "pygments_lexer": "ipython3",
   "version": "3.7.4"
  }
 },
 "nbformat": 4,
 "nbformat_minor": 4
}
