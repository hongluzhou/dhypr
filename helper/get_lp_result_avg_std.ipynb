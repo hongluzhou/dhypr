{
 "cells": [
  {
   "cell_type": "code",
   "execution_count": null,
   "metadata": {},
   "outputs": [],
   "source": [
    "import os\n",
    "import pdb\n",
    "import numpy as np\n",
    "import pandas as pd\n",
    "import csv"
   ]
  },
  {
   "cell_type": "code",
   "execution_count": null,
   "metadata": {},
   "outputs": [],
   "source": [
    "collected_path = '../collected/HGCN_PoincareBall/cora/lp/'\n",
    "\n",
    "metircs = ['AUC.csv', 'AP.csv']"
   ]
  },
  {
   "cell_type": "code",
   "execution_count": null,
   "metadata": {},
   "outputs": [],
   "source": [
    "def save_metric_result(file_path, results):\n",
    "\n",
    "    df = pd.DataFrame(results)\n",
    "    df.to_csv(file_path, header=False, index=False)\n",
    "    print(file_path + ' saved!')\n",
    "    \n",
    "    return"
   ]
  },
  {
   "cell_type": "code",
   "execution_count": null,
   "metadata": {},
   "outputs": [],
   "source": [
    "for metric in metircs:\n",
    "    values = []\n",
    "    with open(collected_path + metric, 'rt') as f:  \n",
    "        result = list(csv.reader(f))\n",
    "    \n",
    "    for run in result[2:12]:\n",
    "        values += run[1:]\n",
    "\n",
    "    values = [float(val) for val in values]\n",
    "    \n",
    "    val_avg = np.mean(values)\n",
    "    val_std = np.std(values)\n",
    "    \n",
    "    print('avg: {}, std: {}'.format(round(val_avg, 4), round(val_std, 4)))\n",
    "    print('max: {}'.format(round(max(values), 4)))\n",
    "    print(values)\n",
    "    \n",
    "    result = result[:12]\n",
    "    \n",
    "    # result.append([''] * len(run))\n",
    "    # result[-1][0] = 'summary:' \n",
    "    \n",
    "    result.append([''] * len(run))\n",
    "    result[-1][0] = 'mean over all' \n",
    "    result[-1][1] = round(val_avg, 4)\n",
    "    \n",
    "    result.append([''] * len(run))\n",
    "    result[-1][0] = 'std over all' \n",
    "    result[-1][1] = round(val_std, 4)\n",
    "    \n",
    "    save_metric_result(collected_path + metric, result)"
   ]
  },
  {
   "cell_type": "code",
   "execution_count": null,
   "metadata": {},
   "outputs": [],
   "source": []
  }
 ],
 "metadata": {
  "kernelspec": {
   "display_name": "Python 3",
   "language": "python",
   "name": "python3"
  },
  "language_info": {
   "codemirror_mode": {
    "name": "ipython",
    "version": 3
   },
   "file_extension": ".py",
   "mimetype": "text/x-python",
   "name": "python",
   "nbconvert_exporter": "python",
   "pygments_lexer": "ipython3",
   "version": "3.7.4"
  }
 },
 "nbformat": 4,
 "nbformat_minor": 4
}
